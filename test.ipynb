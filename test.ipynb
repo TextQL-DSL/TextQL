{
 "cells": [
  {
   "cell_type": "code",
   "execution_count": 2,
   "metadata": {},
   "outputs": [
    {
     "name": "stderr",
     "output_type": "stream",
     "text": [
      "ERROR: No token list is defined\n",
      "ERROR: No rules of the form t_rulename are defined\n",
      "ERROR: No rules defined for state 'INITIAL'\n"
     ]
    },
    {
     "ename": "SyntaxError",
     "evalue": "Can't build lexer (<string>)",
     "output_type": "error",
     "traceback": [
      "Traceback \u001b[0;36m(most recent call last)\u001b[0m:\n",
      "  File \u001b[1;32m~/miniconda3/envs/dev/lib/python3.9/site-packages/IPython/core/interactiveshell.py:3398\u001b[0m in \u001b[1;35mrun_code\u001b[0m\n    exec(code_obj, self.user_global_ns, self.user_ns)\n",
      "  Input \u001b[1;32mIn [2]\u001b[0m in \u001b[1;35m<cell line: 1>\u001b[0m\n    from dsl.parser import parse\n",
      "  File \u001b[1;32m~/Documents/repos/TextQL/dsl/parser.py:2\u001b[0m in \u001b[1;35m<module>\u001b[0m\n    from dsl.lexer import lexer\n",
      "  File \u001b[1;32m~/Documents/repos/TextQL/dsl/lexer.py:89\u001b[0m in \u001b[1;35m<module>\u001b[0m\n    lexer = lex()\n",
      "\u001b[0;36m  File \u001b[0;32m~/Documents/repos/TextQL/ply/lex.py:752\u001b[0;36m in \u001b[0;35mlex\u001b[0;36m\u001b[0m\n\u001b[0;31m    raise SyntaxError(\"Can't build lexer\")\u001b[0m\n",
      "\u001b[0;36m  File \u001b[0;32m<string>\u001b[0;36m\u001b[0m\n\u001b[0;31mSyntaxError\u001b[0m\u001b[0;31m:\u001b[0m Can't build lexer\n"
     ]
    }
   ],
   "source": [
    "from dsl.parser import parse\n",
    "\n",
    "data = \"USE pdf './data.docx'\"\n",
    "p = parse(data)\n",
    "print(p)"
   ]
  }
 ],
 "metadata": {
  "kernelspec": {
   "display_name": "Python 3.9.12 ('dev')",
   "language": "python",
   "name": "python3"
  },
  "language_info": {
   "codemirror_mode": {
    "name": "ipython",
    "version": 3
   },
   "file_extension": ".py",
   "mimetype": "text/x-python",
   "name": "python",
   "nbconvert_exporter": "python",
   "pygments_lexer": "ipython3",
   "version": "3.9.12"
  },
  "orig_nbformat": 4,
  "vscode": {
   "interpreter": {
    "hash": "0829aa88c50d1b42348ba3b1d76fcd8f233bffc522ed808e64a51ebd0c1b4b71"
   }
  }
 },
 "nbformat": 4,
 "nbformat_minor": 2
}
